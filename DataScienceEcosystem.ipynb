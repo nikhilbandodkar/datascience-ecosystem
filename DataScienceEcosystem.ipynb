{
 "cells": [
  {
   "cell_type": "markdown",
   "id": "030d5307",
   "metadata": {},
   "source": [
    "# Data Science Tools and Ecosystem\n"
   ]
  },
  {
   "cell_type": "markdown",
   "id": "d15740e5",
   "metadata": {},
   "source": [
    "In this notebook, Data Science Tools and Ecosystem are summarized."
   ]
  },
  {
   "cell_type": "markdown",
   "id": "bda579e9",
   "metadata": {},
   "source": [
    "Some of the popular languages that Data Scientists use are:\n",
    "1. Python\n",
    "2. SQL\n",
    "3. R"
   ]
  },
  {
   "cell_type": "markdown",
   "id": "9773f42c",
   "metadata": {},
   "source": [
    "Some of the commonly used libraries used by Data Scientists include:\n",
    "1. Pandas\n",
    "2. NumPy\n",
    "3. Scikit-learn"
   ]
  },
  {
   "cell_type": "markdown",
   "id": "fd96e6d5",
   "metadata": {},
   "source": [
    "________________________\n",
    "| Data Science Tools   |\n",
    "|______________________|\n",
    "| Jupyter Notebook     |\n",
    "| RStudio              |\n",
    "| Apache Zeppelin      |"
   ]
  },
  {
   "cell_type": "markdown",
   "id": "243e8d4b",
   "metadata": {},
   "source": [
    "### Below are a few examples of evaluating arithmetic expressions in Python.\n"
   ]
  },
  {
   "cell_type": "code",
   "execution_count": 1,
   "id": "53d48f63",
   "metadata": {},
   "outputs": [
    {
     "data": {
      "text/plain": [
       "17"
      ]
     },
     "execution_count": 1,
     "metadata": {},
     "output_type": "execute_result"
    }
   ],
   "source": [
    "# This a simple arithmetic expression to multiply then add integers.\n",
    "\n",
    "(3 * 4) + 5"
   ]
  },
  {
   "cell_type": "code",
   "execution_count": 2,
   "id": "0a0cedd4",
   "metadata": {},
   "outputs": [
    {
     "data": {
      "text/plain": [
       "3.3333333333333335"
      ]
     },
     "execution_count": 2,
     "metadata": {},
     "output_type": "execute_result"
    }
   ],
   "source": [
    "# This will convert 200 minutes to hours by dividing by 60.\n",
    "\n",
    "200 / 60\n"
   ]
  },
  {
   "cell_type": "markdown",
   "id": "a97f3ba7",
   "metadata": {},
   "source": [
    "**Objectives:**\n",
    "- List popular languages for Data Science\n",
    "- List commonly used libraries\n",
    "- Use markdown in Jupyter Notebook\n",
    "- Perform arithmetic operations\n",
    "- Upload Jupyter Notebook to GitHub\n"
   ]
  },
  {
   "cell_type": "code",
   "execution_count": null,
   "id": "e2351586",
   "metadata": {},
   "outputs": [],
   "source": [
    "## Author\n",
    "Nikhil Bandodkar\n"
   ]
  }
 ],
 "metadata": {
  "kernelspec": {
   "display_name": "Python 3 (ipykernel)",
   "language": "python",
   "name": "python3"
  },
  "language_info": {
   "codemirror_mode": {
    "name": "ipython",
    "version": 3
   },
   "file_extension": ".py",
   "mimetype": "text/x-python",
   "name": "python",
   "nbconvert_exporter": "python",
   "pygments_lexer": "ipython3",
   "version": "3.9.12"
  }
 },
 "nbformat": 4,
 "nbformat_minor": 5
}
